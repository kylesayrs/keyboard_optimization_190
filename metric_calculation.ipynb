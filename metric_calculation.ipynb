{
 "cells": [
  {
   "cell_type": "code",
   "execution_count": 56,
   "id": "724f0578",
   "metadata": {},
   "outputs": [
    {
     "name": "stdout",
     "output_type": "stream",
     "text": [
      "['i', 'am', 'happy', 'lmao']\n",
      "[('a', 'L', 0, 0), ('b', 'L', 0, 1), ('c', 'L', 0, 2), ('d', 'R', 1, 0), ('e', 'R', 1, 1), ('f', 'R', 1, 2), ('g', 'R', 1, 3), ('h', 'R', 2, 0), ('i', 'R', 2, 1), ('j', 'R', 2, 2), ('k', 'R', 2, 3), ('l', 'L', 3, 0), ('m', 'L', 3, 1), ('n', 'L', 3, 2), ('o', 'L', 4, 0), ('p', 'L', 4, 1), ('q', 'L', 4, 2), ('r', 'R', 5, 0), ('s', 'R', 5, 1), ('t', 'R', 5, 2), ('u', 'L', 6, 0), ('v', 'L', 6, 1), ('w', 'L', 6, 2), ('x', 'R', 7, 0), ('y', 'R', 7, 1), ('z', 'R', 7, 2)]\n"
     ]
    }
   ],
   "source": [
    "#### change the following data and sentence\n",
    "data = [('a','b','c'),('d','e','f','g'),('h','i','j','k'),('l','m','n'),('o','p','q'),('r','s','t'),('u','v','w'),('x','y','z')]\n",
    "sentence = 'i am happy lmao'\n",
    "words = sentence.split()\n",
    "print(words)\n",
    "\n",
    "\n",
    "import numpy as np\n",
    "# input data structure: [(a,b,c),(d,e,f,g),(hijk),(l,m,n),(o,p,q),(r,s,t),(u,v,w),(x,y,z)]\n",
    "# desired structure: ('a', L or R, block number, index in the block)\n",
    "dist_m = np.matrix([[0,0,0,1,1.42,0,2,0],\n",
    "          [0,0,1,0,0,1.42,0,2.24],\n",
    "          [0,1,0,0,0,1,0,2],\n",
    "          [1,0,0,0,1,0,1,0],\n",
    "          [1.42,0,0,1,0,0,1.42,0],\n",
    "          [0,1.42,1,0,0,0,0,1],\n",
    "          [2,0,0,1,1.42,0,0,0],\n",
    "          [0,2.24,2,0,0,1,0,0]])\n",
    "#init letter_info\n",
    "# i is the block number\n",
    "def create_letter_info(data):\n",
    "    letter_info = [0] * 26\n",
    "    for i in range(8):\n",
    "        block  = data[i]\n",
    "        #j is the index in the block\n",
    "        for j in range(len(block)):\n",
    "            #find the index of the letter in the letter_info: ord(letter)-97\n",
    "            index = ord(block[j])-97\n",
    "            if i in [1,2,5,7]:\n",
    "                L_R = 'R'\n",
    "            else: \n",
    "                L_R = 'L'\n",
    "            letter_info[index] = (block[j],L_R,i,j)\n",
    "    return letter_info\n",
    "        \n",
    "letter_info =  create_letter_info(data)    \n",
    "print(letter_info)"
   ]
  },
  {
   "cell_type": "code",
   "execution_count": 78,
   "id": "2c59dd3f",
   "metadata": {},
   "outputs": [
    {
     "name": "stdout",
     "output_type": "stream",
     "text": [
      "the total traveled distance is 9.0\n",
      "the the total number of pressing is 18\n",
      "the number of times pressing a block consecitively is 2\n"
     ]
    }
   ],
   "source": [
    "def comput_metric(words,letter_info,dist_m):\n",
    "    dist_l = 0\n",
    "    dist_r = 0\n",
    "    getletter = 0 \n",
    "    # cons_n counts the number the times we stayed in the same black conseutively \n",
    "    cons_n = 0\n",
    "    for word in words:\n",
    "        #default left thumb position is block IV\n",
    "        l_position = 3\n",
    "        #default right thumb position is block VII\n",
    "        r_position = 5 \n",
    "        alter = 'neu'\n",
    "        for elem in word:\n",
    "            index_elem = ord(elem)-97\n",
    "            #print(letter_info[index_elem])\n",
    "            hand = letter_info[index_elem][1]\n",
    "            block = letter_info[index_elem][2]\n",
    "            ind = letter_info[index_elem][3]\n",
    "            # ======== update dist_l =========\n",
    "            if hand == 'L':\n",
    "                dist_l += dist_m[block,l_position]\n",
    "            else:\n",
    "                dist_r += dist_m[block,r_position]\n",
    "            \n",
    "            # ======== update getletter =========\n",
    "            getletter += ind +1\n",
    "        \n",
    "            # ======= update consecutive number =========\n",
    "            if block == alter:\n",
    "                cons_n +=1\n",
    "            alter = block\n",
    "        \n",
    "    dist = dist_l + dist_r\n",
    "    return(dist,getletter,cons_n) \n",
    "\n",
    "\n",
    "metric = comput_metric(words,letter_info,dist_m)\n",
    "print(f'the total traveled distance is {metric[0]}\\nthe the total number of pressing is {metric[1]}\\nthe number of times pressing a block consecitively is {metric[2]}')"
   ]
  }
 ],
 "metadata": {
  "kernelspec": {
   "display_name": "Python [conda env:diamonds2022] *",
   "language": "python",
   "name": "conda-env-diamonds2022-py"
  },
  "language_info": {
   "codemirror_mode": {
    "name": "ipython",
    "version": 3
   },
   "file_extension": ".py",
   "mimetype": "text/x-python",
   "name": "python",
   "nbconvert_exporter": "python",
   "pygments_lexer": "ipython3",
   "version": "3.10.4"
  }
 },
 "nbformat": 4,
 "nbformat_minor": 5
}
