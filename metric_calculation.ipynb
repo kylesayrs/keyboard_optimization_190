{
 "cells": [
  {
   "cell_type": "code",
   "execution_count": 1,
   "id": "5f07a824",
   "metadata": {},
   "outputs": [],
   "source": [
    "def create_keyboard(blocks,letter_freq,ordering):\n",
    "    for i in range(len(blocks)):\n",
    "        blocks[i] = sorted(blocks[i],key=letter_freq.get)\n",
    "    sorted_list = list(np.array(blocks)[ordering])\n",
    "    return sorted_list\n",
    "\n",
    "def create_letter_info(data):\n",
    "    letter_info = [0] * 26\n",
    "    for i in range(8):\n",
    "        block  = data[i]\n",
    "        #j is the index in the block\n",
    "        for j in range(len(block)):\n",
    "            #find the index of the letter in the letter_info: ord(letter)-97\n",
    "            index = ord(block[j])-97\n",
    "            letter_info[index] = (block[j],i,j)\n",
    "    return letter_info\n",
    "def create_letter_info(data):\n",
    "    letter_info = [0] * 26\n",
    "    for i in range(8):\n",
    "        block  = data[i]\n",
    "        #j is the index in the block\n",
    "        for j in range(len(block)):\n",
    "            #find the index of the letter in the letter_info: ord(letter)-97\n",
    "            index = ord(block[j])-97\n",
    "            letter_info[index] = (block[j],i,j)\n",
    "    return letter_info\n",
    "\n",
    "def comput_metric(words,letter_info,dist_m, relative_f):\n",
    "    dist = 0\n",
    "    N = 0 \n",
    "    # cons_n counts the number the times we stayed in the same black conseutively \n",
    "    C = 0\n",
    "    for word in words:\n",
    "        position = 'neu'\n",
    "        last_letter = 'neu'\n",
    "        for elem in word:\n",
    "            letter = ord(elem)-97\n",
    "            #print(letter_info[index_elem])\n",
    "            block = letter_info[letter][1]\n",
    "            ind = letter_info[letter][2]\n",
    "            # ======= update consecutive number =========\n",
    "            if block == position:\n",
    "                N += relative_f[last_letter,letter]\n",
    "            # ======== update dist_l =========\n",
    "            if position == 'neu':\n",
    "                position = block\n",
    "            dist += dist_m[block,position]\n",
    "            # ======== update pressing_n =========\n",
    "            C += ind + 1\n",
    "            last_letter = letter\n",
    "    return(dist,N,C) "
   ]
  },
  {
   "cell_type": "code",
   "execution_count": 13,
   "id": "a95086d2",
   "metadata": {},
   "outputs": [],
   "source": [
    "import numpy as np\n",
    "letter_freq = {'e':0,'a':1,'r':2,'i':3,'o':4,'t':5,'n':6,'s':7,'l':8,'c':9,'u':10,\n",
    "               'd':11,'p':12,'m':13,'h':14,'g':15,'b':16,'f':17,'y':18,'w':19,'k':20,\n",
    "               'v':21,'x':22,'z':23,'j':24,'q':25}\n",
    "f_count = [('er', 44109),('in', 40899),('ar', 29110),('es', 28073),('or', 27803),('st', 27369),('an', 27011),('no', 24938),('it', 24248),('et', 22645),('en', 21483),('at', 20169),('al', 19878),('ot', 19731),('de', 19526),('is', 16403),('gn', 15834),('rt', 15534),('co', 15422),('ce', 15341),('il', 15004),('ht', 14856),('fo', 14569),('el', 12934),('io', 12224),('eh', 11725),('as', 11518),('lo', 11197),('ad', 10994),('nt', 10774),('em', 10717),('ir', 10713),('am', 10639),('mo', 10500),('ac', 10182),('ae', 9926),('ev', 9903),('ci', 9764),('ah', 9511),('ou', 9223),('cn', 9209),('op', 8735),('di', 8523),('ep', 8367),('su', 8286),('eg', 8205),('ap', 7703),('ai', 7588),('dn', 7529),('os', 7493),('pr', 7233),('ew', 7205),('im', 7051),('gr', 7039),('ch', 6953),('tu', 6716),('gi', 6572),('ck', 6160),('ru', 6144),('hs', 6127),('ow', 5969),('nu', 5778),('hi', 5680),('ek', 5669),('pu', 5630),('iv', 5622),('ct', 5603), ('ns', 5600), ('lu', 5546), ('ho', 5436), ('ly', 5251), ('do', 5147), ('ag', 4898), ('fi', 4844), ('ei', 4744), ('ay', 4598), ('rs', 4525), ('cr', 4453), ('bo', 4323), ('bi', 4272), ('nr', 4198), ('be', 4174), ('ex', 4109), ('ab', 3976), ('sy', 3889), ('bu', 3807), ('ps', 3796), ('dl', 3673), ('iw', 3667), ('cl', 3382), ('ov', 3341), ('pt', 3275), ('mu', 3199), ('ks', 3194), ('av', 3190), ('aw', 3080), ('au', 3026), ('ip', 2988), ('ef', 2940), ('fr', 2880), ('lt', 2874), ('gs', 2841), ('px', 2756), ('lp', 2637), ('cu', 2622), ('ey', 2583), ('ls', 2548), ('cs', 2535), ('go', 2528), ('eu', 2494), ('by', 2454), ('gh', 2404), ('mp', 2393), ('dr', 2288), ('kr', 2283), ('ty', 2281), ('ry', 2274), ('oy', 2253), ('af', 2230), ('ak', 2225), ('mr', 2123), ('qu', 2076), ('nv', 2039), ('ds', 1953), ('br', 1912), ('ik', 1854), ('bl', 1760), ('ft', 1758), ('du', 1689), ('ju', 1682), ('hw', 1668), ('ko', 1623), ('jo', 1610), ('ny', 1585), ('kn', 1567), ('iu', 1537), ('uy', 1456), ('mt', 1451), ('sw', 1393), ('gu', 1352), ('lr', 1347), ('ax', 1298), ('nw', 1208), ('ms', 1147), ('gy', 1117), ('eo', 1116), ('hn', 1063), ('py', 1052), ('aj', 1045), ('fl', 1002), ('hp', 985), ('tw', 965), ('az', 940), ('ln', 896), ('rv', 827), ('fu', 807), ('gt', 768), ('bm', 699), ('kl', 687), ('hu', 684), ('my', 683), ('cx', 675), ('dt', 663), ('ej', 622), ('ao', 614), ('iz', 609), ('cm', 585), ('gp', 585), ('hr', 582), ('cy', 566), ('ez', 547), ('tx', 545), ('gl', 524), ('fn', 498), ('rw', 491), ('ix', 490), ('dy', 479), ('sv', 443), ('cd', 442), ('lm', 440), ('eq', 430), ('dg', 420), ('bt', 389), ('bs', 384), ('iy', 378), ('oz', 359), ('dp', 352),('dm', 341), ('ij', 341), ('bn', 336), ('fs', 336), ('bc', 328), ('dv', 325), ('hy', 287), ('ox', 260), ('fy', 254), ('mn', 252), ('km', 251), ('df', 248), ('cp', 244), ('nz', 225), ('bd', 218), ('aq', 217), ('dw', 215), ('uz', 210), ('ku', 207), ('hl', 199), ('jn', 195), ('ky', 191), ('gm', 183), ('hm', 179), ('lw', 178), ('np', 177), ('cf', 176), ('kw', 176), ('dh', 165), ('kt', 164), ('cv', 153), ('wy', 150), ('bp', 142), ('tv', 140), ('cq', 139), ('vy', 139), ('sx', 131), ('lv', 125), ('qs', 118), ('pv', 112), ('dx', 100), ('tz', 100), ('hk', 99), ('js', 98), ('bv', 95), ('fp', 95), ('cg', 93), ('jt', 93), ('bg', 91), ('lx', 89), ('dk', 87), ('gv', 87), ('fm', 86), ('nx', 85), ('fv', 83), ('mx', 83), ('dj', 82), ('kp', 81), ('mw', 79), ('bh', 77), ('gz', 77), ('iq', 75), ('fh', 72),('uv', 71), ('rx', 70), ('fw', 69), ('pw', 68), ('qt', 65), ('bj', 62), ('lz', 59), ('qr', 57), ('bf', 56),('bk', 56), ('fg', 56), ('jr', 55), ('gw', 52), ('fk', 50), ('hx', 50), ('rz', 50), ('jp', 48), ('xy', 48), ('yz', 44), ('bx', 43), ('dq', 39), ('lq', 39), ('fx', 36), ('cw', 35), ('oq', 34), ('hv', 33), ('jm', 33), ('jx', 31), ('mz', 31), ('sz', 30), ('bw', 29), ('hz', 29), ('gx', 27), ('dz', 26), ('jy', 25), ('mv', 24), ('nq', 24), ('ux', 22), ('gj', 21), ('hj', 21), ('bz', 18), ('hq', 18), ('kz', 18), ('vw', 18), ('jv', 17), ('cz', 16), ('jw', 16), ('cj', 15), ('uw', 15), ('gk', 14), ('jl', 13), ('fj', 11), ('qy', 11), ('vx', 11), ('kv', 8), ('kx', 8), ('pz', 8), ('qw', 7), ('fq', 5), ('pq', 5), ('bq', 4), ('mq', 4), ('vz', 4), ('jk', 3), ('jz', 3), ('fz', 2), ('qz', 2), ('wz', 2), ('gq', 1), ('jq', 1), ('qx', 1), ('wx', 1), ('xz', 1), ('kq', 0), ('qv', 0)]\n",
    "\n",
    "alpha_List = [chr(i) for i in range(ord('a'),ord('z')+1)]\n",
    "weights = [x[1] for x in f_count]\n",
    "edges = []\n",
    "for x in f_count:\n",
    "    edges.append((alpha_List.index(x[0][0]),alpha_List.index(x[0][1])))\n",
    "edges = [(i, j, w) for (i, j),w in zip(edges, weights)]\n",
    "s_w = sum(weights)\n",
    "relative_f = np.zeros((26,26))\n",
    "for element in edges:\n",
    "    i = element[0]\n",
    "    j = element[1]\n",
    "    w = element[2]\n",
    "    relative_f[i,j] = w/s_w\n",
    "    relative_f[j,i] = w/s_w\n",
    "\n",
    "  \n",
    "dist_m = np.matrix([[0,1,2,1,1.42,2.24,2,2.24],\n",
    "                    [1,0,1,1.42,1,1.42,2.24,2],\n",
    "                    [2,1,0,2.24,1.42,1,2.82,2.24],\n",
    "                    [1,1.42,2.24,0,1,2,1,1.42],\n",
    "                    [1.42,1,1.42,1,0,1,1.42,1],\n",
    "                    [2.24,1.42,1,2,1,0,2.24,1.42],\n",
    "                    [2,2.24,2.82,1,1.42,2.24,0,1],\n",
    "                    [2.24,2,2.24,1.42,1,1.42,1,0]])\n",
    "f = open(\"cleaned_text.txt\", \"r\")\n",
    "sentences = f.read()\n",
    "sentences = sentences.split()\n",
    "sentences.append('ae')"
   ]
  },
  {
   "cell_type": "code",
   "execution_count": 11,
   "id": "55ece7c1",
   "metadata": {},
   "outputs": [],
   "source": [
    "blocks = [['n', 'r', 'l'],\n",
    "['s', 'm', 'f'],\n",
    "['t', 'd', 'b'],\n",
    "['c', 'p', 'v', 'w'],\n",
    "['e', 'a', 'o'],\n",
    "['i', 'y', 'q'],\n",
    "['u', 'h', 'k'],\n",
    "['g', 'x', 'j', 'z']]\n",
    "ordering = [1,6,3,5,4,0,7,2]"
   ]
  },
  {
   "cell_type": "code",
   "execution_count": 12,
   "id": "724f0578",
   "metadata": {},
   "outputs": [
    {
     "name": "stderr",
     "output_type": "stream",
     "text": [
      "/var/folders/f2/y58lykxx4m1758sz41l2k92h0000gn/T/ipykernel_63364/3605601628.py:4: VisibleDeprecationWarning: Creating an ndarray from ragged nested sequences (which is a list-or-tuple of lists-or-tuples-or ndarrays with different lengths or shapes) is deprecated. If you meant to do this, you must specify 'dtype=object' when creating the ndarray.\n",
      "  sorted_list = list(np.array(blocks)[ordering])\n"
     ]
    },
    {
     "name": "stdout",
     "output_type": "stream",
     "text": [
      "[['s', 'm', 'f'], ['u', 'h', 'k'], ['c', 'p', 'w', 'v'], ['i', 'y', 'q'], ['e', 'a', 'o'], ['r', 'n', 'l'], ['g', 'x', 'z', 'j'], ['t', 'd', 'b']]\n",
      "[('a', 4, 1), ('b', 2, 2), ('c', 3, 0), ('d', 2, 1), ('e', 4, 0), ('f', 1, 2), ('g', 7, 0), ('h', 6, 1), ('i', 5, 0), ('j', 7, 3), ('k', 6, 2), ('l', 0, 2), ('m', 1, 1), ('n', 0, 1), ('o', 4, 2), ('p', 3, 1), ('q', 5, 2), ('r', 0, 0), ('s', 1, 0), ('t', 2, 0), ('u', 6, 0), ('v', 3, 3), ('w', 3, 2), ('x', 7, 1), ('y', 5, 1), ('z', 7, 2)]\n",
      "the total traveled distance is 1533243.4199956835\n",
      "the the total number of pressing is 2505461\n",
      "the collision score is 1477.3282343269057\n"
     ]
    }
   ],
   "source": [
    "sorted_blocks = create_keyboard(blocks,letter_freq,ordering)\n",
    "print(sorted_blocks)\n",
    "#### change the following data and sentence\n",
    "letter_info =  create_letter_info(blocks)    \n",
    "print(letter_info)\n",
    "##calc score\n",
    "metric = comput_metric(sentences,letter_info,dist_m, relative_f)\n",
    "print(f'the total traveled distance is {metric[0]}\\nthe the total number of pressing is {metric[2]}\\nthe collision score is {metric[1]}')"
   ]
  },
  {
   "cell_type": "code",
   "execution_count": null,
   "id": "216e1bc3",
   "metadata": {},
   "outputs": [],
   "source": []
  },
  {
   "cell_type": "code",
   "execution_count": null,
   "id": "809d25ed",
   "metadata": {},
   "outputs": [],
   "source": []
  }
 ],
 "metadata": {
  "kernelspec": {
   "display_name": "Python 3 (ipykernel)",
   "language": "python",
   "name": "python3"
  },
  "language_info": {
   "codemirror_mode": {
    "name": "ipython",
    "version": 3
   },
   "file_extension": ".py",
   "mimetype": "text/x-python",
   "name": "python",
   "nbconvert_exporter": "python",
   "pygments_lexer": "ipython3",
   "version": "3.10.4"
  },
  "vscode": {
   "interpreter": {
    "hash": "747c8631e49940dbb40f15523470ef4cdf20cc400dd4662f94e35ae04bf7523a"
   }
  }
 },
 "nbformat": 4,
 "nbformat_minor": 5
}
